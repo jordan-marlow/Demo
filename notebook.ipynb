{
 "cells": [
  {
   "cell_type": "code",
   "execution_count": 6,
   "metadata": {},
   "outputs": [],
   "source": [
    "import os\n",
    "import django\n",
    "import sys\n",
    "import shutil\n",
    "\n",
    "# Set the Django settings module\n",
    "os.environ.setdefault('DJANGO_SETTINGS_MODULE', 'Demo.settings')\n",
    "\n",
    "from django.conf import settings\n",
    "\n",
    "# Add the project directory to the sys.path\n",
    "sys.path.append(settings.BASE_DIR)\n",
    "\n",
    "# Initialize Django\n",
    "django.setup()\n",
    "\n",
    "def delete_pycache_and_migrations(root_dir):\n",
    "    for dirpath, dirnames, filenames in os.walk(root_dir):\n",
    "        # Delete __pycache__ directories\n",
    "        if '__pycache__' in dirnames:\n",
    "            pycache_path = os.path.join(dirpath, '__pycache__')\n",
    "            print(f\"Deleting {pycache_path}\")\n",
    "            shutil.rmtree(pycache_path)\n",
    "            dirnames.remove('__pycache__')\n",
    "\n",
    "        # Delete migration files except __init__.py\n",
    "        if 'migrations' in dirnames:\n",
    "            migrations_path = os.path.join(dirpath, 'migrations')\n",
    "            for migration_file in os.listdir(migrations_path):\n",
    "                if migration_file != '__init__.py':\n",
    "                    file_path = os.path.join(migrations_path, migration_file)\n",
    "                    print(f\"Deleting {file_path}\")\n",
    "                    os.remove(file_path)\n",
    "delete_pycache_and_migrations(settings.BASE_DIR)\n",
    "\n"
   ]
  }
 ],
 "metadata": {
  "kernelspec": {
   "display_name": "django",
   "language": "python",
   "name": "python3"
  },
  "language_info": {
   "codemirror_mode": {
    "name": "ipython",
    "version": 3
   },
   "file_extension": ".py",
   "mimetype": "text/x-python",
   "name": "python",
   "nbconvert_exporter": "python",
   "pygments_lexer": "ipython3",
   "version": "3.12.4"
  }
 },
 "nbformat": 4,
 "nbformat_minor": 2
}
